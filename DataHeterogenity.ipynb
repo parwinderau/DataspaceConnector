{
  "nbformat": 4,
  "nbformat_minor": 0,
  "metadata": {
    "colab": {
      "provenance": [],
      "authorship_tag": "ABX9TyOQAYOKsFjRzWMldATHCncK",
      "include_colab_link": true
    },
    "kernelspec": {
      "name": "python3",
      "display_name": "Python 3"
    },
    "language_info": {
      "name": "python"
    }
  },
  "cells": [
    {
      "cell_type": "markdown",
      "metadata": {
        "id": "view-in-github",
        "colab_type": "text"
      },
      "source": [
        "<a href=\"https://colab.research.google.com/github/parwinderau/DataspaceConnector/blob/main/DataHeterogenity.ipynb\" target=\"_parent\"><img src=\"https://colab.research.google.com/assets/colab-badge.svg\" alt=\"Open In Colab\"/></a>"
      ]
    },
    {
      "cell_type": "code",
      "execution_count": 11,
      "metadata": {
        "colab": {
          "base_uri": "https://localhost:8080/"
        },
        "id": "dE2TlETrJYUy",
        "outputId": "d6826a9e-ebe3-47d0-878a-80db4fd0f536"
      },
      "outputs": [
        {
          "output_type": "stream",
          "name": "stdout",
          "text": [
            "Epoch 1/10\n",
            "\u001b[1m1/1\u001b[0m \u001b[32m━━━━━━━━━━━━━━━━━━━━\u001b[0m\u001b[37m\u001b[0m \u001b[1m3s\u001b[0m 3s/step - accuracy: 0.0625 - loss: 3.0905\n",
            "Epoch 2/10\n",
            "\u001b[1m1/1\u001b[0m \u001b[32m━━━━━━━━━━━━━━━━━━━━\u001b[0m\u001b[37m\u001b[0m \u001b[1m0s\u001b[0m 182ms/step - accuracy: 0.2292 - loss: 3.0816\n",
            "Epoch 3/10\n",
            "\u001b[1m1/1\u001b[0m \u001b[32m━━━━━━━━━━━━━━━━━━━━\u001b[0m\u001b[37m\u001b[0m \u001b[1m0s\u001b[0m 141ms/step - accuracy: 0.2083 - loss: 3.0722\n",
            "Epoch 4/10\n",
            "\u001b[1m1/1\u001b[0m \u001b[32m━━━━━━━━━━━━━━━━━━━━\u001b[0m\u001b[37m\u001b[0m \u001b[1m0s\u001b[0m 136ms/step - accuracy: 0.2083 - loss: 3.0618\n",
            "Epoch 5/10\n",
            "\u001b[1m1/1\u001b[0m \u001b[32m━━━━━━━━━━━━━━━━━━━━\u001b[0m\u001b[37m\u001b[0m \u001b[1m0s\u001b[0m 147ms/step - accuracy: 0.2083 - loss: 3.0494\n",
            "Epoch 6/10\n",
            "\u001b[1m1/1\u001b[0m \u001b[32m━━━━━━━━━━━━━━━━━━━━\u001b[0m\u001b[37m\u001b[0m \u001b[1m0s\u001b[0m 126ms/step - accuracy: 0.2083 - loss: 3.0340\n",
            "Epoch 7/10\n",
            "\u001b[1m1/1\u001b[0m \u001b[32m━━━━━━━━━━━━━━━━━━━━\u001b[0m\u001b[37m\u001b[0m \u001b[1m0s\u001b[0m 141ms/step - accuracy: 0.2083 - loss: 3.0138\n",
            "Epoch 8/10\n",
            "\u001b[1m1/1\u001b[0m \u001b[32m━━━━━━━━━━━━━━━━━━━━\u001b[0m\u001b[37m\u001b[0m \u001b[1m0s\u001b[0m 129ms/step - accuracy: 0.2083 - loss: 2.9859\n",
            "Epoch 9/10\n",
            "\u001b[1m1/1\u001b[0m \u001b[32m━━━━━━━━━━━━━━━━━━━━\u001b[0m\u001b[37m\u001b[0m \u001b[1m0s\u001b[0m 140ms/step - accuracy: 0.2083 - loss: 2.9457\n",
            "Epoch 10/10\n",
            "\u001b[1m1/1\u001b[0m \u001b[32m━━━━━━━━━━━━━━━━━━━━\u001b[0m\u001b[37m\u001b[0m \u001b[1m0s\u001b[0m 140ms/step - accuracy: 0.2083 - loss: 2.8894\n",
            "\u001b[1m1/1\u001b[0m \u001b[32m━━━━━━━━━━━━━━━━━━━━\u001b[0m\u001b[37m\u001b[0m \u001b[1m0s\u001b[0m 215ms/step\n",
            "\" \" \" \" \" \" \" \" \" \" \" \" \" \" \" \" \" \" \" \" \" \" \" \" \" \" \" \" \" \" \" \" \" \" \" \" \" \" \" \" \" \" \" \" \" \" \" \"\n"
          ]
        }
      ],
      "source": [
        "import json\n",
        "import numpy as np\n",
        "import tensorflow as tf\n",
        "from tensorflow.keras.preprocessing.text import Tokenizer\n",
        "from tensorflow.keras.preprocessing.sequence import pad_sequences\n",
        "from tensorflow.keras.models import Sequential\n",
        "from tensorflow.keras.layers import Embedding, LSTM, Dense\n",
        "\n",
        "class CustomTokenizer:\n",
        "    def __init__(self):\n",
        "        self.tokenizer = Tokenizer(char_level=True)\n",
        "        self.special_tokens = ['[', ']', '{', '}', ':', ',', '\"']\n",
        "\n",
        "    def fit_on_texts(self, texts):\n",
        "        json_strings = [json.dumps(text) for text in texts]\n",
        "        self.tokenizer.fit_on_texts(json_strings)\n",
        "\n",
        "    def texts_to_sequences(self, texts):\n",
        "        json_strings = [json.dumps(text) for text in texts]\n",
        "        return self.tokenizer.texts_to_sequences(json_strings)\n",
        "\n",
        "    def sequences_to_texts(self, sequences):\n",
        "        return self.tokenizer.sequences_to_texts(sequences)\n",
        "\n",
        "# Sample JSON data\n",
        "data = [\n",
        "    {'factory': {'name': 'Alice', 'product': 'car'}}\n",
        "]\n",
        "\n",
        "# Function to convert JSON to a sequence of tokens\n",
        "def json_to_sequence(data):\n",
        "    sequences = []\n",
        "    for item in data:\n",
        "        json_str = json.dumps(item)\n",
        "        sequence = list(json_str)\n",
        "        sequences.append(sequence)\n",
        "    return sequences\n",
        "\n",
        "# Tokenization\n",
        "custom_tokenizer = CustomTokenizer()\n",
        "custom_tokenizer.fit_on_texts(data)\n",
        "\n",
        "# Convert JSON to sequences of integers\n",
        "input_sequences = custom_tokenizer.texts_to_sequences(data)\n",
        "\n",
        "# Pad sequences to a fixed length\n",
        "max_length = max(len(seq) for seq in input_sequences)\n",
        "input_sequences = pad_sequences(input_sequences, maxlen=max_length, padding='post')\n",
        "\n",
        "# Create a simple sequence-to-sequence model\n",
        "model = Sequential([\n",
        "    Embedding(input_dim=len(custom_tokenizer.tokenizer.word_index) + 1, output_dim=64),\n",
        "    LSTM(128, return_sequences=True),\n",
        "    Dense(len(custom_tokenizer.tokenizer.word_index) + 1, activation='softmax')\n",
        "])\n",
        "\n",
        "model.compile(loss='sparse_categorical_crossentropy', optimizer='adam', metrics=['accuracy'])\n",
        "\n",
        "# Training (replace with your training data)\n",
        "input_sequences = np.array(input_sequences)\n",
        "output_sequences = np.expand_dims(input_sequences, -1)  # Preparing output for sparse_categorical_crossentropy\n",
        "model.fit(input_sequences, output_sequences, epochs=10, batch_size=32)\n",
        "\n",
        "# Generate output (replace with your input JSON)\n",
        "input_json = {'factory': {'name': 'Charlie', 'product': 'computer'}}\n",
        "input_seq = custom_tokenizer.texts_to_sequences([input_json])[0]\n",
        "input_seq = pad_sequences([input_seq], maxlen=max_length, padding='post')\n",
        "predicted_sequence = model.predict(input_seq)[0]\n",
        "predicted_text = custom_tokenizer.sequences_to_texts([np.argmax(predicted_sequence, axis=-1).tolist()])[0]\n",
        "\n",
        "print(predicted_text)\n"
      ]
    }
  ]
}